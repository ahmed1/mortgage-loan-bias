{
 "cells": [
  {
   "cell_type": "code",
   "execution_count": 1,
   "metadata": {},
   "outputs": [],
   "source": [
    "import pandas as pd\n",
    "from sklearn.linear_model import LogisticRegression\n",
    "from sklearn.metrics import roc_auc_score\n",
    "from sklearn.model_selection import RepeatedStratifiedKFold\n",
    "from sklearn.base import clone\n",
    "from themis_ml.metrics import mean_difference\n",
    "import glob\n",
    "import numpy as np\n",
    "import matplotlib.pyplot as plt"
   ]
  },
  {
   "cell_type": "code",
   "execution_count": 2,
   "metadata": {},
   "outputs": [
    {
     "name": "stderr",
     "output_type": "stream",
     "text": [
      "/Library/Frameworks/Python.framework/Versions/3.7/lib/python3.7/site-packages/IPython/core/interactiveshell.py:3044: DtypeWarning: Columns (1,41,43,45,47,49,51) have mixed types. Specify dtype option on import or set low_memory=False.\n",
      "  interactivity=interactivity, compiler=compiler, result=result)\n"
     ]
    },
    {
     "name": "stdout",
     "output_type": "stream",
     "text": [
      "hmda14a (4172033, 53)\n",
      "frame: (11875464, 53)\n"
     ]
    }
   ],
   "source": [
    "hmda14a = pd.read_csv('hmda14a.csv')\n",
    "hmda14b = pd.read_csv('hmda14b.csv')\n",
    "hmda14c = pd.read_csv('hmda14c.csv')\n",
    "\n",
    "print (\"hmda14a\", hmda14a.shape)\n",
    "list_ = []\n",
    "list_.append(hmda14a)\n",
    "list_.append(hmda14b)\n",
    "list_.append(hmda14c)\n",
    "\n",
    "frame2 = pd.concat(list_, axis = 0, ignore_index = True)\n",
    "print (\"frame:\", frame2.shape)"
   ]
  },
  {
   "cell_type": "code",
   "execution_count": 3,
   "metadata": {},
   "outputs": [],
   "source": [
    "# frame.HOEPA.isnull().values.any()"
   ]
  },
  {
   "cell_type": "code",
   "execution_count": 4,
   "metadata": {},
   "outputs": [],
   "source": [
    "# frame.LIENSTATUS.value_counts()"
   ]
  },
  {
   "cell_type": "code",
   "execution_count": 5,
   "metadata": {},
   "outputs": [],
   "source": [
    "frame = frame2[['PURPOSE', 'LOAN_TYPE', 'PROP_TYPE', 'AMNT','APP_INCCH','APP_RACE1','APP_SEX','PURCHTYPE', 'APP_ETH', 'COAP_RACE1', 'COAP_SEX', 'PRE_APP', 'OCCUPANCY', 'MINPOPCH', 'OWNOCCCH', 'OWNOCC4CH', 'AGENCY','HOEPA', 'LIENSTATUS', 'DENIAL1']]\n",
    "\n",
    "#added APP_ETH, COAP_RACE1,COAP_SEX, PRE_APP, OCCUPANCY, MINPOPCH, \n",
    "#ones with null values: MINPOPCH, OWNOCCCH, OWNOCC4CH\n",
    "#HOEPA added but only 1K has it...\n",
    "\n",
    "#not adding MINPOP\n",
    "\n"
   ]
  },
  {
   "cell_type": "code",
   "execution_count": 6,
   "metadata": {},
   "outputs": [
    {
     "data": {
      "text/plain": [
       "Index(['PURPOSE', 'LOAN_TYPE', 'PROP_TYPE', 'AMNT', 'APP_INCCH', 'APP_RACE1',\n",
       "       'APP_SEX', 'PURCHTYPE', 'APP_ETH', 'COAP_RACE1', 'COAP_SEX', 'PRE_APP',\n",
       "       'OCCUPANCY', 'MINPOPCH', 'OWNOCCCH', 'OWNOCC4CH', 'AGENCY', 'HOEPA',\n",
       "       'LIENSTATUS', 'DENIAL1'],\n",
       "      dtype='object')"
      ]
     },
     "execution_count": 6,
     "metadata": {},
     "output_type": "execute_result"
    }
   ],
   "source": [
    "frame.columns"
   ]
  },
  {
   "cell_type": "code",
   "execution_count": 7,
   "metadata": {},
   "outputs": [],
   "source": [
    "frame = frame.fillna(0)\n",
    "\n",
    "frame = frame [(frame.APP_SEX != 3) & (frame.APP_SEX != 4) & (frame.APP_SEX != 5) & (frame.APP_INCCH != 0)]\n",
    "frame = frame [(frame.APP_ETH != 3) & (frame.APP_ETH != 4)] #get rid of ('other' values)\n",
    "frame = frame [(frame.APP_RACE1 != 8) & (frame.APP_RACE1 != 7) & (frame.APP_RACE1 != 6)] #get rid of ('not applicable' values)\n",
    "\n",
    "#frame = frame [(frame.APP_RACE1 != 6) & (frame.APP_RACE1 != 7) & (frame.APP_RACE1 != 8)]"
   ]
  },
  {
   "cell_type": "code",
   "execution_count": 8,
   "metadata": {},
   "outputs": [
    {
     "name": "stdout",
     "output_type": "stream",
     "text": [
      "False\n"
     ]
    },
    {
     "data": {
      "text/plain": [
       "(8759315, 20)"
      ]
     },
     "execution_count": 8,
     "metadata": {},
     "output_type": "execute_result"
    }
   ],
   "source": [
    "print (frame.isnull().values.any()) #no null values\n",
    "frame.shape"
   ]
  },
  {
   "cell_type": "code",
   "execution_count": 9,
   "metadata": {},
   "outputs": [
    {
     "data": {
      "text/plain": [
       "{dtype('int64'): Index(['PURPOSE', 'LOAN_TYPE', 'PROP_TYPE', 'AMNT', 'APP_RACE1', 'APP_SEX',\n",
       "        'PURCHTYPE', 'APP_ETH', 'COAP_RACE1', 'COAP_SEX', 'PRE_APP',\n",
       "        'OCCUPANCY', 'AGENCY', 'HOEPA', 'LIENSTATUS'],\n",
       "       dtype='object'),\n",
       " dtype('float64'): Index(['APP_INCCH', 'MINPOPCH', 'OWNOCCCH', 'OWNOCC4CH', 'DENIAL1'], dtype='object')}"
      ]
     },
     "execution_count": 9,
     "metadata": {},
     "output_type": "execute_result"
    }
   ],
   "source": [
    "frame.columns.to_series().groupby(frame.dtypes).groups #all int or float check"
   ]
  },
  {
   "cell_type": "code",
   "execution_count": 10,
   "metadata": {
    "scrolled": true
   },
   "outputs": [
    {
     "data": {
      "text/plain": [
       "APP_RACE1  DENIAL1\n",
       "1          0.0        0.797985\n",
       "           1.0        0.048258\n",
       "           2.0        0.002439\n",
       "           3.0        0.087765\n",
       "           4.0        0.023922\n",
       "           5.0        0.004851\n",
       "           6.0        0.005581\n",
       "           7.0        0.013243\n",
       "           8.0        0.000234\n",
       "           9.0        0.015723\n",
       "2          0.0        0.871212\n",
       "           1.0        0.043328\n",
       "           2.0        0.002616\n",
       "           3.0        0.023529\n",
       "           4.0        0.018940\n",
       "           5.0        0.004670\n",
       "           6.0        0.007062\n",
       "           7.0        0.015917\n",
       "           8.0        0.000166\n",
       "           9.0        0.012562\n",
       "3          0.0        0.773370\n",
       "           1.0        0.051971\n",
       "           2.0        0.002024\n",
       "           3.0        0.101616\n",
       "           4.0        0.027982\n",
       "           5.0        0.005745\n",
       "           6.0        0.005371\n",
       "           7.0        0.015936\n",
       "           8.0        0.000250\n",
       "           9.0        0.015733\n",
       "4          0.0        0.808762\n",
       "           1.0        0.053838\n",
       "           2.0        0.002115\n",
       "           3.0        0.069424\n",
       "           4.0        0.024234\n",
       "           5.0        0.004324\n",
       "           6.0        0.006391\n",
       "           7.0        0.015491\n",
       "           8.0        0.000214\n",
       "           9.0        0.015206\n",
       "5          0.0        0.875001\n",
       "           1.0        0.031713\n",
       "           2.0        0.001909\n",
       "           3.0        0.037402\n",
       "           4.0        0.022359\n",
       "           5.0        0.003431\n",
       "           6.0        0.004126\n",
       "           7.0        0.013198\n",
       "           8.0        0.000189\n",
       "           9.0        0.010671\n",
       "dtype: float64"
      ]
     },
     "execution_count": 10,
     "metadata": {},
     "output_type": "execute_result"
    }
   ],
   "source": [
    "c = frame.groupby([\"APP_RACE1\", \"DENIAL1\"]).size()\n",
    "\n",
    "c/c.groupby(level=0).sum()"
   ]
  },
  {
   "cell_type": "code",
   "execution_count": 11,
   "metadata": {
    "scrolled": true
   },
   "outputs": [
    {
     "data": {
      "text/plain": [
       "APP_SEX  DENIAL1\n",
       "1        0.0        0.873944\n",
       "         1.0        0.031478\n",
       "         2.0        0.001936\n",
       "         3.0        0.037622\n",
       "         4.0        0.022524\n",
       "         5.0        0.003587\n",
       "         6.0        0.004413\n",
       "         7.0        0.013597\n",
       "         8.0        0.000179\n",
       "         9.0        0.010720\n",
       "2        0.0        0.847952\n",
       "         1.0        0.040452\n",
       "         2.0        0.002033\n",
       "         3.0        0.052225\n",
       "         4.0        0.022793\n",
       "         5.0        0.003947\n",
       "         6.0        0.004427\n",
       "         7.0        0.013533\n",
       "         8.0        0.000224\n",
       "         9.0        0.012415\n",
       "dtype: float64"
      ]
     },
     "execution_count": 11,
     "metadata": {},
     "output_type": "execute_result"
    }
   ],
   "source": [
    "c = frame.groupby([\"APP_SEX\", \"DENIAL1\"]).size()\n",
    "\n",
    "c/c.groupby(level=0).sum()"
   ]
  },
  {
   "cell_type": "code",
   "execution_count": null,
   "metadata": {},
   "outputs": [],
   "source": []
  },
  {
   "cell_type": "code",
   "execution_count": 12,
   "metadata": {},
   "outputs": [],
   "source": [
    "#AMNT, APP_RACE1, APP_ETH\n",
    "\n",
    "#added APP_ETH, COAP_RACE1,COAP_SEX, PRE_APP, OCCUPANCY, MINPOPCH, \n",
    "#ones with null values: MINPOPCH, OWNOCCCH, OWNOCC4CH\n",
    "#HOEPA added but only 1K has it...\n"
   ]
  },
  {
   "cell_type": "code",
   "execution_count": null,
   "metadata": {},
   "outputs": [],
   "source": []
  },
  {
   "cell_type": "code",
   "execution_count": null,
   "metadata": {},
   "outputs": [],
   "source": []
  },
  {
   "cell_type": "code",
   "execution_count": null,
   "metadata": {},
   "outputs": [],
   "source": []
  },
  {
   "cell_type": "code",
   "execution_count": 13,
   "metadata": {},
   "outputs": [
    {
     "data": {
      "text/plain": [
       "1    7876405\n",
       "0     882910\n",
       "Name: APP_ETH, dtype: int64"
      ]
     },
     "execution_count": 13,
     "metadata": {},
     "output_type": "execute_result"
    }
   ],
   "source": [
    "ethnicity = frame[\"APP_ETH\"].map({1: 0, 2: 1}) #0 - hispanic and 1 - not hispanic\n",
    "ethnicity.value_counts()"
   ]
  },
  {
   "cell_type": "code",
   "execution_count": 14,
   "metadata": {},
   "outputs": [
    {
     "data": {
      "text/plain": [
       "0    4570768\n",
       "1    4188547\n",
       "Name: AMNT, dtype: int64"
      ]
     },
     "execution_count": 14,
     "metadata": {},
     "output_type": "execute_result"
    }
   ],
   "source": [
    "amnt_asked = frame['AMNT'].map(lambda x: 0 if x > 150 else 1) #rough half-way point\n",
    "amnt_asked.value_counts()"
   ]
  },
  {
   "cell_type": "code",
   "execution_count": 15,
   "metadata": {},
   "outputs": [
    {
     "data": {
      "text/plain": [
       "1.00    7463514\n",
       "0.50     663135\n",
       "0.25     518008\n",
       "0.00      72569\n",
       "0.75      42089\n",
       "Name: APP_RACE1, dtype: int64"
      ]
     },
     "execution_count": 15,
     "metadata": {},
     "output_type": "execute_result"
    }
   ],
   "source": [
    "#race is weird because there's a lot of it so....\n",
    "race = frame['APP_RACE1'].map({1: 0, 2: 0.25, 3: 0.5, 4: 0.75, 5: 1})\n",
    "race.value_counts()"
   ]
  },
  {
   "cell_type": "code",
   "execution_count": 16,
   "metadata": {},
   "outputs": [
    {
     "data": {
      "text/plain": [
       "0    6124894\n",
       "1    2634421\n",
       "Name: APP_SEX, dtype: int64"
      ]
     },
     "execution_count": 16,
     "metadata": {},
     "output_type": "execute_result"
    }
   ],
   "source": [
    "sex = frame[\"APP_SEX\"].map({1: 0, 2: 1})\n",
    "\n",
    "sex.value_counts()"
   ]
  },
  {
   "cell_type": "code",
   "execution_count": 17,
   "metadata": {},
   "outputs": [
    {
     "data": {
      "text/plain": [
       "1    5064437\n",
       "0    3694878\n",
       "Name: APP_INCCH, dtype: int64"
      ]
     },
     "execution_count": 17,
     "metadata": {},
     "output_type": "execute_result"
    }
   ],
   "source": [
    "inc = frame[\"APP_INCCH\"].map(lambda x: 0 if x > 84.900 else 1) #median family income\n",
    "\n",
    "inc.value_counts()"
   ]
  },
  {
   "cell_type": "code",
   "execution_count": 18,
   "metadata": {},
   "outputs": [],
   "source": [
    "denial = frame[\"DENIAL1\"].map({0: 0, 1: 1, 2: 1, 3: 1, 4: 1, 5: 1, 6: 1, 7: 1, 8: 1, 9: 1})\n",
    "denial.value_counts()\n",
    "\n",
    "#remove the denial column from the frame after use\n",
    "frame = frame.drop(columns = ['DENIAL1'])"
   ]
  },
  {
   "cell_type": "code",
   "execution_count": 19,
   "metadata": {},
   "outputs": [],
   "source": [
    "sexDif = mean_difference(denial, sex)\n",
    "incDif = mean_difference(denial, inc)\n",
    "ethnicityDif = mean_difference(denial, ethnicity)\n",
    "amnt_askedDif = mean_difference(denial, amnt_asked)\n",
    "raceDif = mean_difference(denial, race)"
   ]
  },
  {
   "cell_type": "code",
   "execution_count": 20,
   "metadata": {},
   "outputs": [
    {
     "name": "stdout",
     "output_type": "stream",
     "text": [
      "protected class = sex: -0.026, 95% CI [-0.026--0.026]\n",
      "protected class = income: -0.052, 95% CI [-0.052--0.051]\n",
      "protected class = ethnicity: 0.031, 95% CI [0.030-0.032]\n",
      "protected class = amnt_asked: -0.065, 95% CI [-0.065--0.064]\n",
      "protected class = race: 0.060, 95% CI [0.059-0.061]\n"
     ]
    }
   ],
   "source": [
    "print(\"protected class = sex: %0.03f, 95%% CI [%0.03f-%0.03f]\" % sexDif)\n",
    "print(\"protected class = income: %0.03f, 95%% CI [%0.03f-%0.03f]\" % incDif)\n",
    "print(\"protected class = ethnicity: %0.03f, 95%% CI [%0.03f-%0.03f]\" % ethnicityDif)\n",
    "print(\"protected class = amnt_asked: %0.03f, 95%% CI [%0.03f-%0.03f]\" % amnt_askedDif)\n",
    "print(\"protected class = race: %0.03f, 95%% CI [%0.03f-%0.03f]\" % raceDif)"
   ]
  },
  {
   "cell_type": "code",
   "execution_count": 22,
   "metadata": {},
   "outputs": [],
   "source": [
    "#plots named racial groups vs the rest\n",
    "#frame[\"APP_RACE1\"].value_counts()\n",
    "\n",
    "#americanIndian = frame[\"APP_RACE1\"].map({1: 0, 2: 1, 3: 1, 4: 1, 5: 1})\n",
    "#asian = frame[\"APP_RACE1\"].map({1: 1, 2: 0, 3: 1, 4: 1, 5: 1})\n",
    "#black = frame[\"APP_RACE1\"].map({1: 1, 2: 1, 3: 0, 4: 1, 5: 1})\n",
    "#islander = frame[\"APP_RACE1\"].map({1: 1, 2: 1, 3: 1, 4: 0, 5: 1})\n",
    "#white = frame[\"APP_RACE1\"].map({1: 1, 2: 1, 3: 1, 4: 1, 5: 0})\n",
    "\n",
    "#americanIndianDif = mean_difference(denial, americanIndian)\n",
    "#asianDif = mean_difference(denial, asian)\n",
    "#blackDif = mean_difference(denial, black)\n",
    "#islanderDif = mean_difference(denial, islander)\n",
    "#whiteDif = mean_difference(denial, white)\n",
    "\n",
    "#print(\"protected class = american indian: %0.03f, 95%% CI [%0.03f-%0.03f]\" % americanIndianDif)\n",
    "#print(\"protected class = asian: %0.03f, 95%% CI [%0.03f-%0.03f]\" % asianDif)\n",
    "#print(\"protected class = black: %0.03f, 95%% CI [%0.03f-%0.03f]\" % blackDif)\n",
    "#print(\"protected class = islander: %0.03f, 95%% CI [%0.03f-%0.03f]\" % islanderDif)\n",
    "#print(\"protected class = white: %0.03f, 95%% CI [%0.03f-%0.03f]\" % whiteDif)"
   ]
  },
  {
   "cell_type": "code",
   "execution_count": 23,
   "metadata": {},
   "outputs": [],
   "source": [
    "logistic_clf = LogisticRegression(penalty=\"l2\", C=0.001, class_weight=\"balanced\")\n",
    "\n",
    "X = frame\n",
    "X_no_sex = frame.drop(columns=['APP_SEX'])\n",
    "X_no_inc = frame.drop(columns=['APP_INCCH'])\n",
    "X_no_ethnicity = frame.drop(columns=['APP_ETH'])\n",
    "X_no_amnt_asked = frame.drop(columns=['AMNT'])\n",
    "X_no_race = frame.drop(columns=['APP_RACE1'])\n",
    "\n",
    "y = denial.values\n",
    "s_sex = sex.values\n",
    "s_inc = inc.values\n",
    "s_ethnicity = ethnicity.values\n",
    "s_amnt_asked = amnt_asked.values\n",
    "s_race = race.values"
   ]
  },
  {
   "cell_type": "code",
   "execution_count": 39,
   "metadata": {},
   "outputs": [],
   "source": [
    "#Array used for list to dataframe conversion\n",
    "COLUMNS = [\"mean_diff_sex\", \"auc_sex\", \"mean_diff_inc\", \"auc_inc\", \"mean_diff_ethnicity\", \"auc_ethnicity\", \"mean_diff_amnt_asked\", \"auc_amnt_asked\", \"mean_diff_race\", \"auc_race\"]\n",
    "\n",
    "def regression_test_iteration(X, X_no_sex, X_no_inc, X_no_ethnicity, X_no_amnt_asked, X_no_race, y, s_sex, s_inc, s_ethnicity, s_amnt_asked, s_race, train, test):\n",
    "    \n",
    "    # - fairness metric with respect to sex\n",
    "    # - accuracy metric with respect to sex\n",
    "    metrics = []\n",
    "\n",
    "    # define our model.\n",
    "    logistic_clf = LogisticRegression(penalty=\"l2\", C=0.001, class_weight=\"balanced\")\n",
    "    baseline_clf = logistic_clf\n",
    "    rpa_clf = logistic_clf\n",
    "\n",
    "    # baseline model\n",
    "    baseline_clf.fit(X[train], y[train])\n",
    "    baseline_preds = baseline_clf.predict(X[test])\n",
    "    \n",
    "    #calculate and append metrics\n",
    "    metrics.append([\"BASELINE\", \n",
    "        mean_difference(baseline_preds, s_sex[test])[0], roc_auc_score(y[test], baseline_preds),\n",
    "        mean_difference(baseline_preds, s_inc[test])[0], roc_auc_score(y[test], baseline_preds),\n",
    "        mean_difference(baseline_preds, s_ethnicity[test])[0], roc_auc_score(y[test], baseline_preds),\n",
    "        mean_difference(baseline_preds, s_amnt_asked[test])[0], roc_auc_score(y[test], baseline_preds),\n",
    "        mean_difference(baseline_preds, s_race[test])[0], roc_auc_score(y[test], baseline_preds)])\n",
    "\n",
    "    # model with no sex variables\n",
    "    rpa_preds_no_sex = rpa_clf.fit(X_no_sex[train], y[train]).predict(X_no_sex[test])\n",
    "    # model with no income variables\n",
    "    rpa_preds_no_inc = rpa_clf.fit(X_no_inc[train], y[train]).predict(X_no_inc[test])\n",
    "    #model with no ethnicity variables\n",
    "    rpa_preds_no_ethnicity = rpa_clf.fit(X_no_ethnicity[train], y[train]).predict(X_no_ethnicity[test])\n",
    "    #model with no amount asked variables\n",
    "    rpa_preds_no_amnt_asked = rpa_clf.fit(X_no_amnt_asked[train], y[train]).predict(X_no_amnt_asked[test])\n",
    "    #model with no race variables\n",
    "    rpa_preds_no_race = rpa_clf.fit(X_no_race[train], y[train]).predict(X_no_race[test])\n",
    "    \n",
    "    \n",
    "    #calculate and append metrics\n",
    "    metrics.append([\"RemoveProtectedAttributes\",\n",
    "        mean_difference(rpa_preds_no_sex, s_sex[test])[0], roc_auc_score(y[test], rpa_preds_no_sex),\n",
    "        mean_difference(rpa_preds_no_inc, s_inc[test])[0], roc_auc_score(y[test], rpa_preds_no_inc),\n",
    "        mean_difference(rpa_preds_no_ethnicity, s_ethnicity[test])[0], roc_auc_score(y[test], rpa_preds_no_ethnicity),           \n",
    "        mean_difference(rpa_preds_no_amnt_asked, s_amnt_asked[test])[0], roc_auc_score(y[test], rpa_preds_no_amnt_asked),           \n",
    "        mean_difference(rpa_preds_no_race, s_race[test])[0], roc_auc_score(y[test], rpa_preds_no_race)])\n",
    "        \n",
    "    \n",
    "    # convert metrics list to dataframe\n",
    "    return pd.DataFrame(metrics, columns=[\"condition\"] + COLUMNS)"
   ]
  },
  {
   "cell_type": "code",
   "execution_count": 40,
   "metadata": {},
   "outputs": [],
   "source": [
    "%matplotlib inline\n",
    "\n",
    "#Performs 2 folds 5 times, random number seed set to 41\n",
    "cv = RepeatedStratifiedKFold(n_splits=2, n_repeats=5, random_state=32)\n",
    "\n",
    "mygroups = s_sex + s_inc + s_ethnicity + s_amnt_asked + s_race\n",
    "metrics = []"
   ]
  },
  {
   "cell_type": "code",
   "execution_count": 41,
   "metadata": {},
   "outputs": [
    {
     "name": "stderr",
     "output_type": "stream",
     "text": [
      "/Library/Frameworks/Python.framework/Versions/3.7/lib/python3.7/site-packages/sklearn/linear_model/logistic.py:433: FutureWarning: Default solver will be changed to 'lbfgs' in 0.22. Specify a solver to silence this warning.\n",
      "  FutureWarning)\n",
      "/Library/Frameworks/Python.framework/Versions/3.7/lib/python3.7/site-packages/sklearn/linear_model/logistic.py:433: FutureWarning: Default solver will be changed to 'lbfgs' in 0.22. Specify a solver to silence this warning.\n",
      "  FutureWarning)\n",
      "/Library/Frameworks/Python.framework/Versions/3.7/lib/python3.7/site-packages/sklearn/linear_model/logistic.py:433: FutureWarning: Default solver will be changed to 'lbfgs' in 0.22. Specify a solver to silence this warning.\n",
      "  FutureWarning)\n",
      "/Library/Frameworks/Python.framework/Versions/3.7/lib/python3.7/site-packages/sklearn/linear_model/logistic.py:433: FutureWarning: Default solver will be changed to 'lbfgs' in 0.22. Specify a solver to silence this warning.\n",
      "  FutureWarning)\n",
      "/Library/Frameworks/Python.framework/Versions/3.7/lib/python3.7/site-packages/sklearn/linear_model/logistic.py:433: FutureWarning: Default solver will be changed to 'lbfgs' in 0.22. Specify a solver to silence this warning.\n",
      "  FutureWarning)\n",
      "/Library/Frameworks/Python.framework/Versions/3.7/lib/python3.7/site-packages/sklearn/linear_model/logistic.py:433: FutureWarning: Default solver will be changed to 'lbfgs' in 0.22. Specify a solver to silence this warning.\n",
      "  FutureWarning)\n",
      "/Library/Frameworks/Python.framework/Versions/3.7/lib/python3.7/site-packages/sklearn/linear_model/logistic.py:433: FutureWarning: Default solver will be changed to 'lbfgs' in 0.22. Specify a solver to silence this warning.\n",
      "  FutureWarning)\n",
      "/Library/Frameworks/Python.framework/Versions/3.7/lib/python3.7/site-packages/sklearn/linear_model/logistic.py:433: FutureWarning: Default solver will be changed to 'lbfgs' in 0.22. Specify a solver to silence this warning.\n",
      "  FutureWarning)\n",
      "/Library/Frameworks/Python.framework/Versions/3.7/lib/python3.7/site-packages/sklearn/linear_model/logistic.py:433: FutureWarning: Default solver will be changed to 'lbfgs' in 0.22. Specify a solver to silence this warning.\n",
      "  FutureWarning)\n",
      "/Library/Frameworks/Python.framework/Versions/3.7/lib/python3.7/site-packages/sklearn/linear_model/logistic.py:433: FutureWarning: Default solver will be changed to 'lbfgs' in 0.22. Specify a solver to silence this warning.\n",
      "  FutureWarning)\n",
      "/Library/Frameworks/Python.framework/Versions/3.7/lib/python3.7/site-packages/sklearn/linear_model/logistic.py:433: FutureWarning: Default solver will be changed to 'lbfgs' in 0.22. Specify a solver to silence this warning.\n",
      "  FutureWarning)\n",
      "/Library/Frameworks/Python.framework/Versions/3.7/lib/python3.7/site-packages/sklearn/linear_model/logistic.py:433: FutureWarning: Default solver will be changed to 'lbfgs' in 0.22. Specify a solver to silence this warning.\n",
      "  FutureWarning)\n",
      "/Library/Frameworks/Python.framework/Versions/3.7/lib/python3.7/site-packages/sklearn/linear_model/logistic.py:433: FutureWarning: Default solver will be changed to 'lbfgs' in 0.22. Specify a solver to silence this warning.\n",
      "  FutureWarning)\n",
      "/Library/Frameworks/Python.framework/Versions/3.7/lib/python3.7/site-packages/sklearn/linear_model/logistic.py:433: FutureWarning: Default solver will be changed to 'lbfgs' in 0.22. Specify a solver to silence this warning.\n",
      "  FutureWarning)\n",
      "/Library/Frameworks/Python.framework/Versions/3.7/lib/python3.7/site-packages/sklearn/linear_model/logistic.py:433: FutureWarning: Default solver will be changed to 'lbfgs' in 0.22. Specify a solver to silence this warning.\n",
      "  FutureWarning)\n",
      "/Library/Frameworks/Python.framework/Versions/3.7/lib/python3.7/site-packages/sklearn/linear_model/logistic.py:433: FutureWarning: Default solver will be changed to 'lbfgs' in 0.22. Specify a solver to silence this warning.\n",
      "  FutureWarning)\n",
      "/Library/Frameworks/Python.framework/Versions/3.7/lib/python3.7/site-packages/sklearn/linear_model/logistic.py:433: FutureWarning: Default solver will be changed to 'lbfgs' in 0.22. Specify a solver to silence this warning.\n",
      "  FutureWarning)\n",
      "/Library/Frameworks/Python.framework/Versions/3.7/lib/python3.7/site-packages/sklearn/linear_model/logistic.py:433: FutureWarning: Default solver will be changed to 'lbfgs' in 0.22. Specify a solver to silence this warning.\n",
      "  FutureWarning)\n",
      "/Library/Frameworks/Python.framework/Versions/3.7/lib/python3.7/site-packages/sklearn/linear_model/logistic.py:433: FutureWarning: Default solver will be changed to 'lbfgs' in 0.22. Specify a solver to silence this warning.\n",
      "  FutureWarning)\n",
      "/Library/Frameworks/Python.framework/Versions/3.7/lib/python3.7/site-packages/sklearn/linear_model/logistic.py:433: FutureWarning: Default solver will be changed to 'lbfgs' in 0.22. Specify a solver to silence this warning.\n",
      "  FutureWarning)\n",
      "/Library/Frameworks/Python.framework/Versions/3.7/lib/python3.7/site-packages/sklearn/linear_model/logistic.py:433: FutureWarning: Default solver will be changed to 'lbfgs' in 0.22. Specify a solver to silence this warning.\n",
      "  FutureWarning)\n",
      "/Library/Frameworks/Python.framework/Versions/3.7/lib/python3.7/site-packages/sklearn/linear_model/logistic.py:433: FutureWarning: Default solver will be changed to 'lbfgs' in 0.22. Specify a solver to silence this warning.\n",
      "  FutureWarning)\n",
      "/Library/Frameworks/Python.framework/Versions/3.7/lib/python3.7/site-packages/sklearn/linear_model/logistic.py:433: FutureWarning: Default solver will be changed to 'lbfgs' in 0.22. Specify a solver to silence this warning.\n",
      "  FutureWarning)\n",
      "/Library/Frameworks/Python.framework/Versions/3.7/lib/python3.7/site-packages/sklearn/linear_model/logistic.py:433: FutureWarning: Default solver will be changed to 'lbfgs' in 0.22. Specify a solver to silence this warning.\n",
      "  FutureWarning)\n",
      "/Library/Frameworks/Python.framework/Versions/3.7/lib/python3.7/site-packages/sklearn/linear_model/logistic.py:433: FutureWarning: Default solver will be changed to 'lbfgs' in 0.22. Specify a solver to silence this warning.\n",
      "  FutureWarning)\n",
      "/Library/Frameworks/Python.framework/Versions/3.7/lib/python3.7/site-packages/sklearn/linear_model/logistic.py:433: FutureWarning: Default solver will be changed to 'lbfgs' in 0.22. Specify a solver to silence this warning.\n",
      "  FutureWarning)\n",
      "/Library/Frameworks/Python.framework/Versions/3.7/lib/python3.7/site-packages/sklearn/linear_model/logistic.py:433: FutureWarning: Default solver will be changed to 'lbfgs' in 0.22. Specify a solver to silence this warning.\n",
      "  FutureWarning)\n",
      "/Library/Frameworks/Python.framework/Versions/3.7/lib/python3.7/site-packages/sklearn/linear_model/logistic.py:433: FutureWarning: Default solver will be changed to 'lbfgs' in 0.22. Specify a solver to silence this warning.\n",
      "  FutureWarning)\n",
      "/Library/Frameworks/Python.framework/Versions/3.7/lib/python3.7/site-packages/sklearn/linear_model/logistic.py:433: FutureWarning: Default solver will be changed to 'lbfgs' in 0.22. Specify a solver to silence this warning.\n",
      "  FutureWarning)\n",
      "/Library/Frameworks/Python.framework/Versions/3.7/lib/python3.7/site-packages/sklearn/linear_model/logistic.py:433: FutureWarning: Default solver will be changed to 'lbfgs' in 0.22. Specify a solver to silence this warning.\n",
      "  FutureWarning)\n",
      "/Library/Frameworks/Python.framework/Versions/3.7/lib/python3.7/site-packages/sklearn/linear_model/logistic.py:433: FutureWarning: Default solver will be changed to 'lbfgs' in 0.22. Specify a solver to silence this warning.\n",
      "  FutureWarning)\n",
      "/Library/Frameworks/Python.framework/Versions/3.7/lib/python3.7/site-packages/sklearn/linear_model/logistic.py:433: FutureWarning: Default solver will be changed to 'lbfgs' in 0.22. Specify a solver to silence this warning.\n",
      "  FutureWarning)\n",
      "/Library/Frameworks/Python.framework/Versions/3.7/lib/python3.7/site-packages/sklearn/linear_model/logistic.py:433: FutureWarning: Default solver will be changed to 'lbfgs' in 0.22. Specify a solver to silence this warning.\n",
      "  FutureWarning)\n",
      "/Library/Frameworks/Python.framework/Versions/3.7/lib/python3.7/site-packages/sklearn/linear_model/logistic.py:433: FutureWarning: Default solver will be changed to 'lbfgs' in 0.22. Specify a solver to silence this warning.\n",
      "  FutureWarning)\n"
     ]
    },
    {
     "name": "stderr",
     "output_type": "stream",
     "text": [
      "/Library/Frameworks/Python.framework/Versions/3.7/lib/python3.7/site-packages/sklearn/linear_model/logistic.py:433: FutureWarning: Default solver will be changed to 'lbfgs' in 0.22. Specify a solver to silence this warning.\n",
      "  FutureWarning)\n",
      "/Library/Frameworks/Python.framework/Versions/3.7/lib/python3.7/site-packages/sklearn/linear_model/logistic.py:433: FutureWarning: Default solver will be changed to 'lbfgs' in 0.22. Specify a solver to silence this warning.\n",
      "  FutureWarning)\n",
      "/Library/Frameworks/Python.framework/Versions/3.7/lib/python3.7/site-packages/sklearn/linear_model/logistic.py:433: FutureWarning: Default solver will be changed to 'lbfgs' in 0.22. Specify a solver to silence this warning.\n",
      "  FutureWarning)\n",
      "/Library/Frameworks/Python.framework/Versions/3.7/lib/python3.7/site-packages/sklearn/linear_model/logistic.py:433: FutureWarning: Default solver will be changed to 'lbfgs' in 0.22. Specify a solver to silence this warning.\n",
      "  FutureWarning)\n",
      "/Library/Frameworks/Python.framework/Versions/3.7/lib/python3.7/site-packages/sklearn/linear_model/logistic.py:433: FutureWarning: Default solver will be changed to 'lbfgs' in 0.22. Specify a solver to silence this warning.\n",
      "  FutureWarning)\n",
      "/Library/Frameworks/Python.framework/Versions/3.7/lib/python3.7/site-packages/sklearn/linear_model/logistic.py:433: FutureWarning: Default solver will be changed to 'lbfgs' in 0.22. Specify a solver to silence this warning.\n",
      "  FutureWarning)\n",
      "/Library/Frameworks/Python.framework/Versions/3.7/lib/python3.7/site-packages/sklearn/linear_model/logistic.py:433: FutureWarning: Default solver will be changed to 'lbfgs' in 0.22. Specify a solver to silence this warning.\n",
      "  FutureWarning)\n",
      "/Library/Frameworks/Python.framework/Versions/3.7/lib/python3.7/site-packages/sklearn/linear_model/logistic.py:433: FutureWarning: Default solver will be changed to 'lbfgs' in 0.22. Specify a solver to silence this warning.\n",
      "  FutureWarning)\n",
      "/Library/Frameworks/Python.framework/Versions/3.7/lib/python3.7/site-packages/sklearn/linear_model/logistic.py:433: FutureWarning: Default solver will be changed to 'lbfgs' in 0.22. Specify a solver to silence this warning.\n",
      "  FutureWarning)\n",
      "/Library/Frameworks/Python.framework/Versions/3.7/lib/python3.7/site-packages/sklearn/linear_model/logistic.py:433: FutureWarning: Default solver will be changed to 'lbfgs' in 0.22. Specify a solver to silence this warning.\n",
      "  FutureWarning)\n",
      "/Library/Frameworks/Python.framework/Versions/3.7/lib/python3.7/site-packages/sklearn/linear_model/logistic.py:433: FutureWarning: Default solver will be changed to 'lbfgs' in 0.22. Specify a solver to silence this warning.\n",
      "  FutureWarning)\n",
      "/Library/Frameworks/Python.framework/Versions/3.7/lib/python3.7/site-packages/sklearn/linear_model/logistic.py:433: FutureWarning: Default solver will be changed to 'lbfgs' in 0.22. Specify a solver to silence this warning.\n",
      "  FutureWarning)\n",
      "/Library/Frameworks/Python.framework/Versions/3.7/lib/python3.7/site-packages/sklearn/linear_model/logistic.py:433: FutureWarning: Default solver will be changed to 'lbfgs' in 0.22. Specify a solver to silence this warning.\n",
      "  FutureWarning)\n",
      "/Library/Frameworks/Python.framework/Versions/3.7/lib/python3.7/site-packages/sklearn/linear_model/logistic.py:433: FutureWarning: Default solver will be changed to 'lbfgs' in 0.22. Specify a solver to silence this warning.\n",
      "  FutureWarning)\n",
      "/Library/Frameworks/Python.framework/Versions/3.7/lib/python3.7/site-packages/sklearn/linear_model/logistic.py:433: FutureWarning: Default solver will be changed to 'lbfgs' in 0.22. Specify a solver to silence this warning.\n",
      "  FutureWarning)\n",
      "/Library/Frameworks/Python.framework/Versions/3.7/lib/python3.7/site-packages/sklearn/linear_model/logistic.py:433: FutureWarning: Default solver will be changed to 'lbfgs' in 0.22. Specify a solver to silence this warning.\n",
      "  FutureWarning)\n",
      "/Library/Frameworks/Python.framework/Versions/3.7/lib/python3.7/site-packages/sklearn/linear_model/logistic.py:433: FutureWarning: Default solver will be changed to 'lbfgs' in 0.22. Specify a solver to silence this warning.\n",
      "  FutureWarning)\n",
      "/Library/Frameworks/Python.framework/Versions/3.7/lib/python3.7/site-packages/sklearn/linear_model/logistic.py:433: FutureWarning: Default solver will be changed to 'lbfgs' in 0.22. Specify a solver to silence this warning.\n",
      "  FutureWarning)\n",
      "/Library/Frameworks/Python.framework/Versions/3.7/lib/python3.7/site-packages/sklearn/linear_model/logistic.py:433: FutureWarning: Default solver will be changed to 'lbfgs' in 0.22. Specify a solver to silence this warning.\n",
      "  FutureWarning)\n",
      "/Library/Frameworks/Python.framework/Versions/3.7/lib/python3.7/site-packages/sklearn/linear_model/logistic.py:433: FutureWarning: Default solver will be changed to 'lbfgs' in 0.22. Specify a solver to silence this warning.\n",
      "  FutureWarning)\n",
      "/Library/Frameworks/Python.framework/Versions/3.7/lib/python3.7/site-packages/sklearn/linear_model/logistic.py:433: FutureWarning: Default solver will be changed to 'lbfgs' in 0.22. Specify a solver to silence this warning.\n",
      "  FutureWarning)\n",
      "/Library/Frameworks/Python.framework/Versions/3.7/lib/python3.7/site-packages/sklearn/linear_model/logistic.py:433: FutureWarning: Default solver will be changed to 'lbfgs' in 0.22. Specify a solver to silence this warning.\n",
      "  FutureWarning)\n",
      "/Library/Frameworks/Python.framework/Versions/3.7/lib/python3.7/site-packages/sklearn/linear_model/logistic.py:433: FutureWarning: Default solver will be changed to 'lbfgs' in 0.22. Specify a solver to silence this warning.\n",
      "  FutureWarning)\n",
      "/Library/Frameworks/Python.framework/Versions/3.7/lib/python3.7/site-packages/sklearn/linear_model/logistic.py:433: FutureWarning: Default solver will be changed to 'lbfgs' in 0.22. Specify a solver to silence this warning.\n",
      "  FutureWarning)\n",
      "/Library/Frameworks/Python.framework/Versions/3.7/lib/python3.7/site-packages/sklearn/linear_model/logistic.py:433: FutureWarning: Default solver will be changed to 'lbfgs' in 0.22. Specify a solver to silence this warning.\n",
      "  FutureWarning)\n",
      "/Library/Frameworks/Python.framework/Versions/3.7/lib/python3.7/site-packages/sklearn/linear_model/logistic.py:433: FutureWarning: Default solver will be changed to 'lbfgs' in 0.22. Specify a solver to silence this warning.\n",
      "  FutureWarning)\n"
     ]
    },
    {
     "ename": "NameError",
     "evalue": "name 'METRICS_COLUMNS' is not defined",
     "output_type": "error",
     "traceback": [
      "\u001b[0;31m---------------------------------------------------------------------------\u001b[0m",
      "\u001b[0;31mNameError\u001b[0m                                 Traceback (most recent call last)",
      "\u001b[0;32m<ipython-input-41-4b7550da5c2b>\u001b[0m in \u001b[0;36m<module>\u001b[0;34m\u001b[0m\n\u001b[1;32m     16\u001b[0m \u001b[0;31m# find the average for each condition\u001b[0m\u001b[0;34m\u001b[0m\u001b[0;34m\u001b[0m\u001b[0;34m\u001b[0m\u001b[0m\n\u001b[1;32m     17\u001b[0m \u001b[0mgroup_df\u001b[0m \u001b[0;34m=\u001b[0m \u001b[0mmetrics\u001b[0m\u001b[0;34m.\u001b[0m\u001b[0mgroupby\u001b[0m\u001b[0;34m(\u001b[0m\u001b[0;34m\"condition\"\u001b[0m\u001b[0;34m)\u001b[0m\u001b[0;34m\u001b[0m\u001b[0;34m\u001b[0m\u001b[0m\n\u001b[0;32m---> 18\u001b[0;31m \u001b[0mmean_metrics\u001b[0m \u001b[0;34m=\u001b[0m \u001b[0;34m(\u001b[0m\u001b[0mgroup_df\u001b[0m\u001b[0;34m[\u001b[0m\u001b[0mMETRICS_COLUMNS\u001b[0m\u001b[0;34m]\u001b[0m\u001b[0;34m.\u001b[0m\u001b[0mmean\u001b[0m\u001b[0;34m(\u001b[0m\u001b[0;34m)\u001b[0m\u001b[0;34m)\u001b[0m\u001b[0;34m\u001b[0m\u001b[0;34m\u001b[0m\u001b[0m\n\u001b[0m",
      "\u001b[0;31mNameError\u001b[0m: name 'METRICS_COLUMNS' is not defined"
     ]
    }
   ],
   "source": [
    "\n",
    "\n",
    "#Assign index i the metric data using training subset\n",
    "for i, (train_x, test_x) in enumerate(cv.split(X, y, groups=mygroups)):\n",
    "    metrics.append(regression_test_iteration(\n",
    "        np.array(X), np.array(X_no_sex), np.array(X_no_inc), np.array(X_no_ethnicity),\n",
    "        np.array(X_no_amnt_asked), np.array(X_no_race), np.array(y), np.array(s_sex), \n",
    "        np.array(s_inc), np.array(s_ethnicity), np.array(s_amnt_asked), np.array(s_race),\n",
    "        np.array(train_x), np.array(test_x)).assign(rep_fold=i))\n",
    "    \n",
    "      \n",
    "\n",
    "#concatenate metrics list of dataframes into a single dataframe\n",
    "metrics = pd.concat(metrics)\n",
    "\n",
    "# find the average for each condition\n",
    "group_df = metrics.groupby(\"condition\")\n",
    "\n"
   ]
  },
  {
   "cell_type": "code",
   "execution_count": 42,
   "metadata": {},
   "outputs": [],
   "source": [
    "mean_metrics = (group_df[COLUMNS].mean())"
   ]
  },
  {
   "cell_type": "code",
   "execution_count": 43,
   "metadata": {},
   "outputs": [
    {
     "data": {
      "text/html": [
       "<div>\n",
       "<style scoped>\n",
       "    .dataframe tbody tr th:only-of-type {\n",
       "        vertical-align: middle;\n",
       "    }\n",
       "\n",
       "    .dataframe tbody tr th {\n",
       "        vertical-align: top;\n",
       "    }\n",
       "\n",
       "    .dataframe thead th {\n",
       "        text-align: right;\n",
       "    }\n",
       "</style>\n",
       "<table border=\"1\" class=\"dataframe\">\n",
       "  <thead>\n",
       "    <tr style=\"text-align: right;\">\n",
       "      <th></th>\n",
       "      <th>mean_diff_sex</th>\n",
       "      <th>auc_sex</th>\n",
       "      <th>mean_diff_inc</th>\n",
       "      <th>auc_inc</th>\n",
       "      <th>mean_diff_ethnicity</th>\n",
       "      <th>auc_ethnicity</th>\n",
       "      <th>mean_diff_amnt_asked</th>\n",
       "      <th>auc_amnt_asked</th>\n",
       "      <th>mean_diff_race</th>\n",
       "      <th>auc_race</th>\n",
       "    </tr>\n",
       "    <tr>\n",
       "      <th>condition</th>\n",
       "      <th></th>\n",
       "      <th></th>\n",
       "      <th></th>\n",
       "      <th></th>\n",
       "      <th></th>\n",
       "      <th></th>\n",
       "      <th></th>\n",
       "      <th></th>\n",
       "      <th></th>\n",
       "      <th></th>\n",
       "    </tr>\n",
       "  </thead>\n",
       "  <tbody>\n",
       "    <tr>\n",
       "      <th>BASELINE</th>\n",
       "      <td>-0.062627</td>\n",
       "      <td>0.764732</td>\n",
       "      <td>-0.073312</td>\n",
       "      <td>0.764732</td>\n",
       "      <td>0.060018</td>\n",
       "      <td>0.764732</td>\n",
       "      <td>-0.152415</td>\n",
       "      <td>0.764732</td>\n",
       "      <td>0.114489</td>\n",
       "      <td>0.764732</td>\n",
       "    </tr>\n",
       "    <tr>\n",
       "      <th>RemoveProtectedAttributes</th>\n",
       "      <td>-0.047233</td>\n",
       "      <td>0.764363</td>\n",
       "      <td>-0.061552</td>\n",
       "      <td>0.763712</td>\n",
       "      <td>0.042252</td>\n",
       "      <td>0.764384</td>\n",
       "      <td>-0.141652</td>\n",
       "      <td>0.765397</td>\n",
       "      <td>0.096843</td>\n",
       "      <td>0.764235</td>\n",
       "    </tr>\n",
       "  </tbody>\n",
       "</table>\n",
       "</div>"
      ],
      "text/plain": [
       "                           mean_diff_sex   auc_sex  mean_diff_inc   auc_inc  \\\n",
       "condition                                                                     \n",
       "BASELINE                       -0.062627  0.764732      -0.073312  0.764732   \n",
       "RemoveProtectedAttributes      -0.047233  0.764363      -0.061552  0.763712   \n",
       "\n",
       "                           mean_diff_ethnicity  auc_ethnicity  \\\n",
       "condition                                                       \n",
       "BASELINE                              0.060018       0.764732   \n",
       "RemoveProtectedAttributes             0.042252       0.764384   \n",
       "\n",
       "                           mean_diff_amnt_asked  auc_amnt_asked  \\\n",
       "condition                                                         \n",
       "BASELINE                              -0.152415        0.764732   \n",
       "RemoveProtectedAttributes             -0.141652        0.765397   \n",
       "\n",
       "                           mean_diff_race  auc_race  \n",
       "condition                                            \n",
       "BASELINE                         0.114489  0.764732  \n",
       "RemoveProtectedAttributes        0.096843  0.764235  "
      ]
     },
     "execution_count": 43,
     "metadata": {},
     "output_type": "execute_result"
    }
   ],
   "source": [
    "mean_metrics"
   ]
  },
  {
   "cell_type": "code",
   "execution_count": 48,
   "metadata": {},
   "outputs": [],
   "source": [
    "#standard error of the mean\n",
    "stderr_metrics = (\n",
    "    group_df \n",
    "    [COLUMNS].std()\n",
    ") / np.sqrt(5 * 2) #n_repeats * n_splits"
   ]
  },
  {
   "cell_type": "markdown",
   "metadata": {},
   "source": [
    "As you will notice above, there is a tradeoff between fairness and accuracy. By taking out columns relating to income and gender, the model becomes more fair but also less accurate. In the case of income, removing it lead to far greater fairness but small accuracy decline when compared side by side. With sex there was also a proportionally higher fairness increase when compared to accuracy when the column is taken out."
   ]
  },
  {
   "cell_type": "code",
   "execution_count": 49,
   "metadata": {},
   "outputs": [
    {
     "name": "stderr",
     "output_type": "stream",
     "text": [
      "/Library/Frameworks/Python.framework/Versions/3.7/lib/python3.7/site-packages/matplotlib/cbook/__init__.py:424: MatplotlibDeprecationWarning: \n",
      "Passing one of 'on', 'true', 'off', 'false' as a boolean is deprecated; use an actual boolean (True/False) instead.\n",
      "  warn_deprecated(\"2.2\", \"Passing one of 'on', 'true', 'off', 'false' as a \"\n"
     ]
    },
    {
     "data": {
      "image/png": "[encoded data removed]",
      "text/plain": [
       "<Figure size 720x432 with 1 Axes>"
      ]
     },
     "metadata": {
      "needs_background": "light"
     },
     "output_type": "display_data"
    }
   ],
   "source": [
    "ax = mean_metrics.loc[reversed([\"BASELINE\", \"RemoveProtectedAttributes\"])].plot(\n",
    "    kind=\"barh\", figsize=(10, 6),xerr=stderr_metrics.loc[reversed([\"BASELINE\", \"RemoveProtectedAttributes\"])],\n",
    "    legend=False);\n",
    "\n",
    "ax.legend(loc='upper right', bbox_to_anchor=(1.3, 0.6))\n",
    "ax.spines['right'].set_visible(False)\n",
    "ax.spines['left'].set_visible(False)\n",
    "ax.spines['top'].set_visible(False)\n",
    "\n",
    "ax.tick_params(axis='y', which='both', left='off')\n",
    "ax.set_title(\"Fairness vs Accuracy\", fontsize=16);"
   ]
  },
  {
   "cell_type": "code",
   "execution_count": 6,
   "metadata": {},
   "outputs": [
    {
     "data": {
      "text/plain": [
       "0.015395000000000006"
      ]
     },
     "execution_count": 6,
     "metadata": {},
     "output_type": "execute_result"
    }
   ],
   "source": [
    "mean_diff_sex = 0.062628 - 0.047233\n",
    "mean_diff_sex"
   ]
  },
  {
   "cell_type": "code",
   "execution_count": 7,
   "metadata": {},
   "outputs": [
    {
     "data": {
      "text/plain": [
       "0.01176"
      ]
     },
     "execution_count": 7,
     "metadata": {},
     "output_type": "execute_result"
    }
   ],
   "source": [
    "mean_diff_inc = 0.073312 - 0.061552\n",
    "mean_diff_inc"
   ]
  },
  {
   "cell_type": "code",
   "execution_count": 8,
   "metadata": {},
   "outputs": [
    {
     "data": {
      "text/plain": [
       "0.017766000000000004"
      ]
     },
     "execution_count": 8,
     "metadata": {},
     "output_type": "execute_result"
    }
   ],
   "source": [
    "mean_diff_ethnicity = 0.060018 - 0.042252\n",
    "mean_diff_ethnicity"
   ]
  },
  {
   "cell_type": "code",
   "execution_count": 9,
   "metadata": {},
   "outputs": [
    {
     "data": {
      "text/plain": [
       "0.010762999999999995"
      ]
     },
     "execution_count": 9,
     "metadata": {},
     "output_type": "execute_result"
    }
   ],
   "source": [
    "mean_diff_amnt_asked = 0.152415 - 0.141652\n",
    "mean_diff_amnt_asked"
   ]
  },
  {
   "cell_type": "code",
   "execution_count": 11,
   "metadata": {},
   "outputs": [
    {
     "data": {
      "text/plain": [
       "0.017645999999999995"
      ]
     },
     "execution_count": 11,
     "metadata": {},
     "output_type": "execute_result"
    }
   ],
   "source": [
    "mean_diff_race = 0.114489 - 0.096843\n",
    "mean_diff_race"
   ]
  },
  {
   "cell_type": "code",
   "execution_count": null,
   "metadata": {},
   "outputs": [],
   "source": []
  },
  {
   "cell_type": "code",
   "execution_count": null,
   "metadata": {},
   "outputs": [],
   "source": []
  }
 ],
 "metadata": {
  "kernelspec": {
   "display_name": "Python 3",
   "language": "python",
   "name": "python3"
  },
  "language_info": {
   "codemirror_mode": {
    "name": "ipython",
    "version": 3
   },
   "file_extension": ".py",
   "mimetype": "text/x-python",
   "name": "python",
   "nbconvert_exporter": "python",
   "pygments_lexer": "ipython3",
   "version": "3.7.2"
  }
 },
 "nbformat": 4,
 "nbformat_minor": 2
}
